{
 "cells": [
  {
   "cell_type": "code",
   "execution_count": 1,
   "id": "fceb1391",
   "metadata": {},
   "outputs": [],
   "source": [
    "import pandas as pd\n",
    "import seaborn as sns \n",
    "import numpy as np\n",
    "import matplotlib.pyplot as plt\n",
    "\n",
    "import warnings; warnings.filterwarnings('ignore')\n",
    "\n",
    "pd.set_option(\"display.max_columns\",None)"
   ]
  },
  {
   "cell_type": "code",
   "execution_count": 2,
   "id": "9899586f",
   "metadata": {},
   "outputs": [
    {
     "data": {
      "text/html": [
       "<div>\n",
       "<style scoped>\n",
       "    .dataframe tbody tr th:only-of-type {\n",
       "        vertical-align: middle;\n",
       "    }\n",
       "\n",
       "    .dataframe tbody tr th {\n",
       "        vertical-align: top;\n",
       "    }\n",
       "\n",
       "    .dataframe thead th {\n",
       "        text-align: right;\n",
       "    }\n",
       "</style>\n",
       "<table border=\"1\" class=\"dataframe\">\n",
       "  <thead>\n",
       "    <tr style=\"text-align: right;\">\n",
       "      <th></th>\n",
       "      <th>LIMIT_BAL</th>\n",
       "      <th>SEX</th>\n",
       "      <th>EDUCATION</th>\n",
       "      <th>MARRIAGE</th>\n",
       "      <th>AGE</th>\n",
       "      <th>PAY_0</th>\n",
       "      <th>PAY_2</th>\n",
       "      <th>PAY_3</th>\n",
       "      <th>PAY_4</th>\n",
       "      <th>PAY_5</th>\n",
       "      <th>PAY_6</th>\n",
       "      <th>BILL_AMT1</th>\n",
       "      <th>BILL_AMT2</th>\n",
       "      <th>BILL_AMT3</th>\n",
       "      <th>BILL_AMT4</th>\n",
       "      <th>BILL_AMT5</th>\n",
       "      <th>BILL_AMT6</th>\n",
       "      <th>PAY_AMT1</th>\n",
       "      <th>PAY_AMT2</th>\n",
       "      <th>PAY_AMT3</th>\n",
       "      <th>PAY_AMT4</th>\n",
       "      <th>PAY_AMT5</th>\n",
       "      <th>PAY_AMT6</th>\n",
       "      <th>default payment next month</th>\n",
       "    </tr>\n",
       "  </thead>\n",
       "  <tbody>\n",
       "    <tr>\n",
       "      <th>0</th>\n",
       "      <td>20000</td>\n",
       "      <td>2</td>\n",
       "      <td>2</td>\n",
       "      <td>1</td>\n",
       "      <td>24</td>\n",
       "      <td>2</td>\n",
       "      <td>2</td>\n",
       "      <td>-1</td>\n",
       "      <td>-1</td>\n",
       "      <td>-2</td>\n",
       "      <td>-2</td>\n",
       "      <td>3913</td>\n",
       "      <td>3102</td>\n",
       "      <td>689</td>\n",
       "      <td>0</td>\n",
       "      <td>0</td>\n",
       "      <td>0</td>\n",
       "      <td>0</td>\n",
       "      <td>689</td>\n",
       "      <td>0</td>\n",
       "      <td>0</td>\n",
       "      <td>0</td>\n",
       "      <td>0</td>\n",
       "      <td>1</td>\n",
       "    </tr>\n",
       "    <tr>\n",
       "      <th>1</th>\n",
       "      <td>120000</td>\n",
       "      <td>2</td>\n",
       "      <td>2</td>\n",
       "      <td>2</td>\n",
       "      <td>26</td>\n",
       "      <td>-1</td>\n",
       "      <td>2</td>\n",
       "      <td>0</td>\n",
       "      <td>0</td>\n",
       "      <td>0</td>\n",
       "      <td>2</td>\n",
       "      <td>2682</td>\n",
       "      <td>1725</td>\n",
       "      <td>2682</td>\n",
       "      <td>3272</td>\n",
       "      <td>3455</td>\n",
       "      <td>3261</td>\n",
       "      <td>0</td>\n",
       "      <td>1000</td>\n",
       "      <td>1000</td>\n",
       "      <td>1000</td>\n",
       "      <td>0</td>\n",
       "      <td>2000</td>\n",
       "      <td>1</td>\n",
       "    </tr>\n",
       "    <tr>\n",
       "      <th>2</th>\n",
       "      <td>90000</td>\n",
       "      <td>2</td>\n",
       "      <td>2</td>\n",
       "      <td>2</td>\n",
       "      <td>34</td>\n",
       "      <td>0</td>\n",
       "      <td>0</td>\n",
       "      <td>0</td>\n",
       "      <td>0</td>\n",
       "      <td>0</td>\n",
       "      <td>0</td>\n",
       "      <td>29239</td>\n",
       "      <td>14027</td>\n",
       "      <td>13559</td>\n",
       "      <td>14331</td>\n",
       "      <td>14948</td>\n",
       "      <td>15549</td>\n",
       "      <td>1518</td>\n",
       "      <td>1500</td>\n",
       "      <td>1000</td>\n",
       "      <td>1000</td>\n",
       "      <td>1000</td>\n",
       "      <td>5000</td>\n",
       "      <td>0</td>\n",
       "    </tr>\n",
       "    <tr>\n",
       "      <th>3</th>\n",
       "      <td>50000</td>\n",
       "      <td>2</td>\n",
       "      <td>2</td>\n",
       "      <td>1</td>\n",
       "      <td>37</td>\n",
       "      <td>0</td>\n",
       "      <td>0</td>\n",
       "      <td>0</td>\n",
       "      <td>0</td>\n",
       "      <td>0</td>\n",
       "      <td>0</td>\n",
       "      <td>46990</td>\n",
       "      <td>48233</td>\n",
       "      <td>49291</td>\n",
       "      <td>28314</td>\n",
       "      <td>28959</td>\n",
       "      <td>29547</td>\n",
       "      <td>2000</td>\n",
       "      <td>2019</td>\n",
       "      <td>1200</td>\n",
       "      <td>1100</td>\n",
       "      <td>1069</td>\n",
       "      <td>1000</td>\n",
       "      <td>0</td>\n",
       "    </tr>\n",
       "    <tr>\n",
       "      <th>4</th>\n",
       "      <td>50000</td>\n",
       "      <td>1</td>\n",
       "      <td>2</td>\n",
       "      <td>1</td>\n",
       "      <td>57</td>\n",
       "      <td>-1</td>\n",
       "      <td>0</td>\n",
       "      <td>-1</td>\n",
       "      <td>0</td>\n",
       "      <td>0</td>\n",
       "      <td>0</td>\n",
       "      <td>8617</td>\n",
       "      <td>5670</td>\n",
       "      <td>35835</td>\n",
       "      <td>20940</td>\n",
       "      <td>19146</td>\n",
       "      <td>19131</td>\n",
       "      <td>2000</td>\n",
       "      <td>36681</td>\n",
       "      <td>10000</td>\n",
       "      <td>9000</td>\n",
       "      <td>689</td>\n",
       "      <td>679</td>\n",
       "      <td>0</td>\n",
       "    </tr>\n",
       "  </tbody>\n",
       "</table>\n",
       "</div>"
      ],
      "text/plain": [
       "   LIMIT_BAL  SEX  EDUCATION  MARRIAGE  AGE  PAY_0  PAY_2  PAY_3  PAY_4  \\\n",
       "0      20000    2          2         1   24      2      2     -1     -1   \n",
       "1     120000    2          2         2   26     -1      2      0      0   \n",
       "2      90000    2          2         2   34      0      0      0      0   \n",
       "3      50000    2          2         1   37      0      0      0      0   \n",
       "4      50000    1          2         1   57     -1      0     -1      0   \n",
       "\n",
       "   PAY_5  PAY_6  BILL_AMT1  BILL_AMT2  BILL_AMT3  BILL_AMT4  BILL_AMT5  \\\n",
       "0     -2     -2       3913       3102        689          0          0   \n",
       "1      0      2       2682       1725       2682       3272       3455   \n",
       "2      0      0      29239      14027      13559      14331      14948   \n",
       "3      0      0      46990      48233      49291      28314      28959   \n",
       "4      0      0       8617       5670      35835      20940      19146   \n",
       "\n",
       "   BILL_AMT6  PAY_AMT1  PAY_AMT2  PAY_AMT3  PAY_AMT4  PAY_AMT5  PAY_AMT6  \\\n",
       "0          0         0       689         0         0         0         0   \n",
       "1       3261         0      1000      1000      1000         0      2000   \n",
       "2      15549      1518      1500      1000      1000      1000      5000   \n",
       "3      29547      2000      2019      1200      1100      1069      1000   \n",
       "4      19131      2000     36681     10000      9000       689       679   \n",
       "\n",
       "   default payment next month  \n",
       "0                           1  \n",
       "1                           1  \n",
       "2                           0  \n",
       "3                           0  \n",
       "4                           0  "
      ]
     },
     "execution_count": 2,
     "metadata": {},
     "output_type": "execute_result"
    }
   ],
   "source": [
    "df = pd.read_csv(\"data/cleaned_Data.csv\")\n",
    "df.head()"
   ]
  },
  {
   "cell_type": "code",
   "execution_count": 3,
   "id": "f9a2ae4b",
   "metadata": {},
   "outputs": [
    {
     "data": {
      "text/plain": [
       "0    23364\n",
       "1     6636\n",
       "Name: default payment next month, dtype: int64"
      ]
     },
     "execution_count": 3,
     "metadata": {},
     "output_type": "execute_result"
    }
   ],
   "source": [
    "df[\"default payment next month\"].value_counts()"
   ]
  },
  {
   "cell_type": "code",
   "execution_count": 4,
   "id": "daf0966e",
   "metadata": {},
   "outputs": [
    {
     "data": {
      "text/plain": [
       "(30000, 24)"
      ]
     },
     "execution_count": 4,
     "metadata": {},
     "output_type": "execute_result"
    }
   ],
   "source": [
    "df.shape"
   ]
  },
  {
   "cell_type": "markdown",
   "id": "5f4257fe",
   "metadata": {},
   "source": [
    "## FIX Outliers"
   ]
  },
  {
   "cell_type": "code",
   "execution_count": 5,
   "id": "433facf3",
   "metadata": {},
   "outputs": [],
   "source": [
    "from scipy.stats import zscore"
   ]
  },
  {
   "cell_type": "code",
   "execution_count": 6,
   "id": "0679e7db",
   "metadata": {},
   "outputs": [],
   "source": [
    "z_scores = zscore(df)\n",
    "\n",
    "abs_z_scores = np.abs(z_scores)\n",
    "filtered_entries = (abs_z_scores < 3).all(axis=1)\n",
    "new_df = df[filtered_entries]"
   ]
  },
  {
   "cell_type": "markdown",
   "id": "aa2df9a0",
   "metadata": {},
   "source": [
    "# Remove imbalanced - Under sampling "
   ]
  },
  {
   "cell_type": "code",
   "execution_count": 7,
   "id": "ffee9186",
   "metadata": {},
   "outputs": [],
   "source": [
    "from imblearn.under_sampling import NearMiss"
   ]
  },
  {
   "cell_type": "code",
   "execution_count": 8,
   "id": "6670b81f",
   "metadata": {},
   "outputs": [],
   "source": [
    "X = new_df.drop(labels=['default payment next month'], axis =1)\n",
    "y = new_df[\"default payment next month\"]"
   ]
  },
  {
   "cell_type": "code",
   "execution_count": 9,
   "id": "6aa7f751",
   "metadata": {},
   "outputs": [],
   "source": [
    "# Implementing Undersampling for Handling Imbalanced \n",
    "nm = NearMiss()\n",
    "X_res,y_res=nm.fit_resample(X,y)"
   ]
  },
  {
   "cell_type": "code",
   "execution_count": 10,
   "id": "78502f17",
   "metadata": {},
   "outputs": [
    {
     "data": {
      "text/html": [
       "<div>\n",
       "<style scoped>\n",
       "    .dataframe tbody tr th:only-of-type {\n",
       "        vertical-align: middle;\n",
       "    }\n",
       "\n",
       "    .dataframe tbody tr th {\n",
       "        vertical-align: top;\n",
       "    }\n",
       "\n",
       "    .dataframe thead th {\n",
       "        text-align: right;\n",
       "    }\n",
       "</style>\n",
       "<table border=\"1\" class=\"dataframe\">\n",
       "  <thead>\n",
       "    <tr style=\"text-align: right;\">\n",
       "      <th></th>\n",
       "      <th>LIMIT_BAL</th>\n",
       "      <th>SEX</th>\n",
       "      <th>EDUCATION</th>\n",
       "      <th>MARRIAGE</th>\n",
       "      <th>AGE</th>\n",
       "      <th>PAY_0</th>\n",
       "      <th>PAY_2</th>\n",
       "      <th>PAY_3</th>\n",
       "      <th>PAY_4</th>\n",
       "      <th>PAY_5</th>\n",
       "      <th>PAY_6</th>\n",
       "      <th>BILL_AMT1</th>\n",
       "      <th>BILL_AMT2</th>\n",
       "      <th>BILL_AMT3</th>\n",
       "      <th>BILL_AMT4</th>\n",
       "      <th>BILL_AMT5</th>\n",
       "      <th>BILL_AMT6</th>\n",
       "      <th>PAY_AMT1</th>\n",
       "      <th>PAY_AMT2</th>\n",
       "      <th>PAY_AMT3</th>\n",
       "      <th>PAY_AMT4</th>\n",
       "      <th>PAY_AMT5</th>\n",
       "      <th>PAY_AMT6</th>\n",
       "    </tr>\n",
       "  </thead>\n",
       "  <tbody>\n",
       "    <tr>\n",
       "      <th>0</th>\n",
       "      <td>360000</td>\n",
       "      <td>1</td>\n",
       "      <td>2</td>\n",
       "      <td>1</td>\n",
       "      <td>42</td>\n",
       "      <td>1</td>\n",
       "      <td>-2</td>\n",
       "      <td>-2</td>\n",
       "      <td>-2</td>\n",
       "      <td>-2</td>\n",
       "      <td>-2</td>\n",
       "      <td>0</td>\n",
       "      <td>0</td>\n",
       "      <td>0</td>\n",
       "      <td>0</td>\n",
       "      <td>0</td>\n",
       "      <td>0</td>\n",
       "      <td>0</td>\n",
       "      <td>0</td>\n",
       "      <td>0</td>\n",
       "      <td>0</td>\n",
       "      <td>0</td>\n",
       "      <td>0</td>\n",
       "    </tr>\n",
       "    <tr>\n",
       "      <th>1</th>\n",
       "      <td>360000</td>\n",
       "      <td>2</td>\n",
       "      <td>1</td>\n",
       "      <td>1</td>\n",
       "      <td>36</td>\n",
       "      <td>-2</td>\n",
       "      <td>-2</td>\n",
       "      <td>-2</td>\n",
       "      <td>-2</td>\n",
       "      <td>-2</td>\n",
       "      <td>-2</td>\n",
       "      <td>0</td>\n",
       "      <td>0</td>\n",
       "      <td>0</td>\n",
       "      <td>0</td>\n",
       "      <td>0</td>\n",
       "      <td>0</td>\n",
       "      <td>0</td>\n",
       "      <td>0</td>\n",
       "      <td>0</td>\n",
       "      <td>0</td>\n",
       "      <td>0</td>\n",
       "      <td>0</td>\n",
       "    </tr>\n",
       "    <tr>\n",
       "      <th>2</th>\n",
       "      <td>360000</td>\n",
       "      <td>2</td>\n",
       "      <td>2</td>\n",
       "      <td>2</td>\n",
       "      <td>34</td>\n",
       "      <td>1</td>\n",
       "      <td>-2</td>\n",
       "      <td>-2</td>\n",
       "      <td>-2</td>\n",
       "      <td>-2</td>\n",
       "      <td>-2</td>\n",
       "      <td>0</td>\n",
       "      <td>0</td>\n",
       "      <td>0</td>\n",
       "      <td>0</td>\n",
       "      <td>0</td>\n",
       "      <td>0</td>\n",
       "      <td>0</td>\n",
       "      <td>0</td>\n",
       "      <td>0</td>\n",
       "      <td>0</td>\n",
       "      <td>0</td>\n",
       "      <td>0</td>\n",
       "    </tr>\n",
       "    <tr>\n",
       "      <th>3</th>\n",
       "      <td>360000</td>\n",
       "      <td>1</td>\n",
       "      <td>2</td>\n",
       "      <td>1</td>\n",
       "      <td>37</td>\n",
       "      <td>1</td>\n",
       "      <td>-2</td>\n",
       "      <td>-2</td>\n",
       "      <td>-2</td>\n",
       "      <td>-2</td>\n",
       "      <td>-2</td>\n",
       "      <td>0</td>\n",
       "      <td>0</td>\n",
       "      <td>0</td>\n",
       "      <td>0</td>\n",
       "      <td>0</td>\n",
       "      <td>0</td>\n",
       "      <td>0</td>\n",
       "      <td>0</td>\n",
       "      <td>0</td>\n",
       "      <td>0</td>\n",
       "      <td>0</td>\n",
       "      <td>0</td>\n",
       "    </tr>\n",
       "    <tr>\n",
       "      <th>4</th>\n",
       "      <td>360000</td>\n",
       "      <td>1</td>\n",
       "      <td>1</td>\n",
       "      <td>2</td>\n",
       "      <td>29</td>\n",
       "      <td>-2</td>\n",
       "      <td>-2</td>\n",
       "      <td>-2</td>\n",
       "      <td>-2</td>\n",
       "      <td>-2</td>\n",
       "      <td>-2</td>\n",
       "      <td>0</td>\n",
       "      <td>0</td>\n",
       "      <td>0</td>\n",
       "      <td>0</td>\n",
       "      <td>0</td>\n",
       "      <td>0</td>\n",
       "      <td>0</td>\n",
       "      <td>0</td>\n",
       "      <td>0</td>\n",
       "      <td>0</td>\n",
       "      <td>0</td>\n",
       "      <td>0</td>\n",
       "    </tr>\n",
       "    <tr>\n",
       "      <th>...</th>\n",
       "      <td>...</td>\n",
       "      <td>...</td>\n",
       "      <td>...</td>\n",
       "      <td>...</td>\n",
       "      <td>...</td>\n",
       "      <td>...</td>\n",
       "      <td>...</td>\n",
       "      <td>...</td>\n",
       "      <td>...</td>\n",
       "      <td>...</td>\n",
       "      <td>...</td>\n",
       "      <td>...</td>\n",
       "      <td>...</td>\n",
       "      <td>...</td>\n",
       "      <td>...</td>\n",
       "      <td>...</td>\n",
       "      <td>...</td>\n",
       "      <td>...</td>\n",
       "      <td>...</td>\n",
       "      <td>...</td>\n",
       "      <td>...</td>\n",
       "      <td>...</td>\n",
       "      <td>...</td>\n",
       "    </tr>\n",
       "    <tr>\n",
       "      <th>11907</th>\n",
       "      <td>40000</td>\n",
       "      <td>1</td>\n",
       "      <td>2</td>\n",
       "      <td>2</td>\n",
       "      <td>47</td>\n",
       "      <td>2</td>\n",
       "      <td>2</td>\n",
       "      <td>3</td>\n",
       "      <td>2</td>\n",
       "      <td>2</td>\n",
       "      <td>2</td>\n",
       "      <td>52358</td>\n",
       "      <td>54892</td>\n",
       "      <td>53415</td>\n",
       "      <td>51259</td>\n",
       "      <td>47151</td>\n",
       "      <td>46934</td>\n",
       "      <td>4000</td>\n",
       "      <td>0</td>\n",
       "      <td>2000</td>\n",
       "      <td>0</td>\n",
       "      <td>3520</td>\n",
       "      <td>0</td>\n",
       "    </tr>\n",
       "    <tr>\n",
       "      <th>11908</th>\n",
       "      <td>90000</td>\n",
       "      <td>1</td>\n",
       "      <td>2</td>\n",
       "      <td>1</td>\n",
       "      <td>36</td>\n",
       "      <td>0</td>\n",
       "      <td>0</td>\n",
       "      <td>0</td>\n",
       "      <td>0</td>\n",
       "      <td>0</td>\n",
       "      <td>0</td>\n",
       "      <td>7752</td>\n",
       "      <td>9112</td>\n",
       "      <td>10306</td>\n",
       "      <td>11328</td>\n",
       "      <td>12036</td>\n",
       "      <td>14329</td>\n",
       "      <td>1500</td>\n",
       "      <td>1500</td>\n",
       "      <td>1500</td>\n",
       "      <td>1200</td>\n",
       "      <td>2500</td>\n",
       "      <td>0</td>\n",
       "    </tr>\n",
       "    <tr>\n",
       "      <th>11909</th>\n",
       "      <td>210000</td>\n",
       "      <td>1</td>\n",
       "      <td>2</td>\n",
       "      <td>1</td>\n",
       "      <td>34</td>\n",
       "      <td>3</td>\n",
       "      <td>2</td>\n",
       "      <td>2</td>\n",
       "      <td>2</td>\n",
       "      <td>2</td>\n",
       "      <td>2</td>\n",
       "      <td>2500</td>\n",
       "      <td>2500</td>\n",
       "      <td>2500</td>\n",
       "      <td>2500</td>\n",
       "      <td>2500</td>\n",
       "      <td>2500</td>\n",
       "      <td>0</td>\n",
       "      <td>0</td>\n",
       "      <td>0</td>\n",
       "      <td>0</td>\n",
       "      <td>0</td>\n",
       "      <td>0</td>\n",
       "    </tr>\n",
       "    <tr>\n",
       "      <th>11910</th>\n",
       "      <td>80000</td>\n",
       "      <td>1</td>\n",
       "      <td>2</td>\n",
       "      <td>2</td>\n",
       "      <td>34</td>\n",
       "      <td>2</td>\n",
       "      <td>2</td>\n",
       "      <td>2</td>\n",
       "      <td>2</td>\n",
       "      <td>2</td>\n",
       "      <td>2</td>\n",
       "      <td>72557</td>\n",
       "      <td>77708</td>\n",
       "      <td>79384</td>\n",
       "      <td>77519</td>\n",
       "      <td>82607</td>\n",
       "      <td>81158</td>\n",
       "      <td>7000</td>\n",
       "      <td>3500</td>\n",
       "      <td>0</td>\n",
       "      <td>7000</td>\n",
       "      <td>0</td>\n",
       "      <td>4000</td>\n",
       "    </tr>\n",
       "    <tr>\n",
       "      <th>11911</th>\n",
       "      <td>50000</td>\n",
       "      <td>1</td>\n",
       "      <td>2</td>\n",
       "      <td>1</td>\n",
       "      <td>46</td>\n",
       "      <td>0</td>\n",
       "      <td>0</td>\n",
       "      <td>0</td>\n",
       "      <td>0</td>\n",
       "      <td>0</td>\n",
       "      <td>0</td>\n",
       "      <td>47929</td>\n",
       "      <td>48905</td>\n",
       "      <td>49764</td>\n",
       "      <td>36535</td>\n",
       "      <td>32428</td>\n",
       "      <td>15313</td>\n",
       "      <td>2078</td>\n",
       "      <td>1800</td>\n",
       "      <td>1430</td>\n",
       "      <td>1000</td>\n",
       "      <td>1000</td>\n",
       "      <td>1000</td>\n",
       "    </tr>\n",
       "  </tbody>\n",
       "</table>\n",
       "<p>11912 rows × 23 columns</p>\n",
       "</div>"
      ],
      "text/plain": [
       "       LIMIT_BAL  SEX  EDUCATION  MARRIAGE  AGE  PAY_0  PAY_2  PAY_3  PAY_4  \\\n",
       "0         360000    1          2         1   42      1     -2     -2     -2   \n",
       "1         360000    2          1         1   36     -2     -2     -2     -2   \n",
       "2         360000    2          2         2   34      1     -2     -2     -2   \n",
       "3         360000    1          2         1   37      1     -2     -2     -2   \n",
       "4         360000    1          1         2   29     -2     -2     -2     -2   \n",
       "...          ...  ...        ...       ...  ...    ...    ...    ...    ...   \n",
       "11907      40000    1          2         2   47      2      2      3      2   \n",
       "11908      90000    1          2         1   36      0      0      0      0   \n",
       "11909     210000    1          2         1   34      3      2      2      2   \n",
       "11910      80000    1          2         2   34      2      2      2      2   \n",
       "11911      50000    1          2         1   46      0      0      0      0   \n",
       "\n",
       "       PAY_5  PAY_6  BILL_AMT1  BILL_AMT2  BILL_AMT3  BILL_AMT4  BILL_AMT5  \\\n",
       "0         -2     -2          0          0          0          0          0   \n",
       "1         -2     -2          0          0          0          0          0   \n",
       "2         -2     -2          0          0          0          0          0   \n",
       "3         -2     -2          0          0          0          0          0   \n",
       "4         -2     -2          0          0          0          0          0   \n",
       "...      ...    ...        ...        ...        ...        ...        ...   \n",
       "11907      2      2      52358      54892      53415      51259      47151   \n",
       "11908      0      0       7752       9112      10306      11328      12036   \n",
       "11909      2      2       2500       2500       2500       2500       2500   \n",
       "11910      2      2      72557      77708      79384      77519      82607   \n",
       "11911      0      0      47929      48905      49764      36535      32428   \n",
       "\n",
       "       BILL_AMT6  PAY_AMT1  PAY_AMT2  PAY_AMT3  PAY_AMT4  PAY_AMT5  PAY_AMT6  \n",
       "0              0         0         0         0         0         0         0  \n",
       "1              0         0         0         0         0         0         0  \n",
       "2              0         0         0         0         0         0         0  \n",
       "3              0         0         0         0         0         0         0  \n",
       "4              0         0         0         0         0         0         0  \n",
       "...          ...       ...       ...       ...       ...       ...       ...  \n",
       "11907      46934      4000         0      2000         0      3520         0  \n",
       "11908      14329      1500      1500      1500      1200      2500         0  \n",
       "11909       2500         0         0         0         0         0         0  \n",
       "11910      81158      7000      3500         0      7000         0      4000  \n",
       "11911      15313      2078      1800      1430      1000      1000      1000  \n",
       "\n",
       "[11912 rows x 23 columns]"
      ]
     },
     "execution_count": 10,
     "metadata": {},
     "output_type": "execute_result"
    }
   ],
   "source": [
    "X_res"
   ]
  },
  {
   "cell_type": "markdown",
   "id": "230e922d",
   "metadata": {},
   "source": [
    "## One Hot encoding"
   ]
  },
  {
   "cell_type": "code",
   "execution_count": 11,
   "id": "5573b3d3",
   "metadata": {},
   "outputs": [],
   "source": [
    "X_res_encoded = pd.get_dummies(X_res, columns = ['SEX', 'EDUCATION','MARRIAGE'] , drop_first= True)"
   ]
  },
  {
   "cell_type": "markdown",
   "id": "f39590be",
   "metadata": {},
   "source": [
    "## StandardScaler"
   ]
  },
  {
   "cell_type": "code",
   "execution_count": 12,
   "id": "75c7dc87",
   "metadata": {},
   "outputs": [],
   "source": [
    "from sklearn.preprocessing import StandardScaler\n",
    "scalar = StandardScaler()\n",
    "X_scaled = scalar.fit_transform(X_res_encoded)"
   ]
  },
  {
   "cell_type": "code",
   "execution_count": 13,
   "id": "3e4783c4",
   "metadata": {},
   "outputs": [
    {
     "data": {
      "text/plain": [
       "array([ 1.20120551e+05,  3.53382304e+01,  1.74194090e-01, -6.56480860e-02,\n",
       "       -1.34905977e-01, -2.31950974e-01, -2.99278039e-01, -3.33613163e-01,\n",
       "        2.52112550e+04,  2.46952551e+04,  2.38540303e+04,  2.22039338e+04,\n",
       "        2.08006163e+04,  2.03096474e+04,  1.88354172e+03,  1.82219577e+03,\n",
       "        1.59847641e+03,  1.46892117e+03,  1.46876419e+03,  1.46838037e+03,\n",
       "        5.87558764e-01,  4.81783076e-01,  1.85946944e-01,  9.98992612e-03,\n",
       "        4.61635326e-01,  5.23673606e-01,  1.24244459e-02])"
      ]
     },
     "execution_count": 13,
     "metadata": {},
     "output_type": "execute_result"
    }
   ],
   "source": [
    "scalar.mean_"
   ]
  },
  {
   "cell_type": "code",
   "execution_count": 14,
   "id": "83a78287",
   "metadata": {},
   "outputs": [],
   "source": [
    "from sklearn.model_selection import train_test_split\n",
    "X_train,X_test,y_train,y_test = train_test_split(X_scaled,y_res,test_size=0.2,random_state=42)"
   ]
  },
  {
   "cell_type": "code",
   "execution_count": 15,
   "id": "cd8216cc",
   "metadata": {},
   "outputs": [
    {
     "data": {
      "text/plain": [
       "((9529, 27), (2383, 27))"
      ]
     },
     "execution_count": 15,
     "metadata": {},
     "output_type": "execute_result"
    }
   ],
   "source": [
    "X_train.shape, X_test.shape"
   ]
  },
  {
   "cell_type": "code",
   "execution_count": 16,
   "id": "ff3c734a",
   "metadata": {},
   "outputs": [],
   "source": [
    "from sklearn.linear_model import LogisticRegression\n",
    "from sklearn.svm import SVC\n",
    "from sklearn.tree import DecisionTreeClassifier\n",
    "from sklearn.neighbors import KNeighborsClassifier\n",
    "from sklearn.ensemble import RandomForestClassifier\n",
    "from sklearn.ensemble import AdaBoostClassifier\n",
    "from sklearn.ensemble import BaggingClassifier\n",
    "from sklearn.ensemble import ExtraTreesClassifier\n",
    "from sklearn.ensemble import GradientBoostingClassifier\n",
    "from xgboost import XGBClassifier\n"
   ]
  },
  {
   "cell_type": "code",
   "execution_count": 17,
   "id": "56d0861d",
   "metadata": {},
   "outputs": [],
   "source": [
    "svc = SVC(kernel='sigmoid', gamma=1.0)\n",
    "knc = KNeighborsClassifier()\n",
    "dtc = DecisionTreeClassifier(max_depth=5)\n",
    "lrc = LogisticRegression(solver='liblinear', penalty='l1')\n",
    "rfc = RandomForestClassifier(n_estimators=50, random_state=42)\n",
    "abc = AdaBoostClassifier(n_estimators=50, random_state=42)\n",
    "bc = BaggingClassifier(n_estimators=50, random_state=2)\n",
    "etc = ExtraTreesClassifier(n_estimators=50, random_state=42)\n",
    "gbdt = GradientBoostingClassifier(n_estimators=50,random_state=42)\n",
    "xgb = XGBClassifier(n_estimators=50,random_state=42)"
   ]
  },
  {
   "cell_type": "code",
   "execution_count": 18,
   "id": "bcea87d9",
   "metadata": {},
   "outputs": [],
   "source": [
    "clfs = {\n",
    "    'SVC' : svc,\n",
    "    'KN' : knc,  \n",
    "    'DT': dtc, \n",
    "    'LR': lrc, \n",
    "    'RF': rfc, \n",
    "    'AdaBoost': abc, \n",
    "    'BgC': bc, \n",
    "    'ETC': etc,\n",
    "    'GBDT':gbdt,\n",
    "    'xgb':xgb\n",
    "}"
   ]
  },
  {
   "cell_type": "code",
   "execution_count": 19,
   "id": "6d6b9b89",
   "metadata": {},
   "outputs": [],
   "source": [
    "from sklearn.metrics import accuracy_score,confusion_matrix,precision_score,f1_score, recall_score"
   ]
  },
  {
   "cell_type": "code",
   "execution_count": 20,
   "id": "7d3aec82",
   "metadata": {},
   "outputs": [],
   "source": [
    "def train_classifier(clf,X_train,y_train,X_test,y_test):\n",
    "    clf.fit(X_train,y_train)\n",
    "    y_pred = clf.predict(X_test)\n",
    "    accuracy = accuracy_score(y_test,y_pred)\n",
    "    precision = precision_score(y_test,y_pred)\n",
    "    f1_scores = f1_score(y_test,y_pred)\n",
    "    recall_scores = recall_score(y_test,y_pred)\n",
    "    \n",
    "    return accuracy,precision,f1_scores, recall_scores"
   ]
  },
  {
   "cell_type": "code",
   "execution_count": 21,
   "id": "d58cfd7c",
   "metadata": {
    "scrolled": false
   },
   "outputs": [
    {
     "name": "stdout",
     "output_type": "stream",
     "text": [
      "For  SVC\n",
      "Accuracy -  0.5539236256819136\n",
      "Precision -  0.541913632514818\n",
      "f1_score -  0.5463081519419547\n",
      "recall_score -  0.5507745266781411\n",
      "--------------------------------------------------------\n",
      "For  KN\n",
      "Accuracy -  0.7129668485102811\n",
      "Precision -  0.7564377682403434\n",
      "f1_score -  0.6733524355300861\n",
      "recall_score -  0.6067125645438899\n",
      "--------------------------------------------------------\n",
      "For  DT\n",
      "Accuracy -  0.726814939152329\n",
      "Precision -  0.7829457364341085\n",
      "f1_score -  0.6847457627118644\n",
      "recall_score -  0.608433734939759\n",
      "--------------------------------------------------------\n",
      "For  LR\n",
      "Accuracy -  0.7402433906840118\n",
      "Precision -  0.7539756782039289\n",
      "f1_score -  0.7225459435230839\n",
      "recall_score -  0.693631669535284\n",
      "--------------------------------------------------------\n",
      "For  RF\n",
      "Accuracy -  0.756189676877885\n",
      "Precision -  0.7727699530516432\n",
      "f1_score -  0.7391109115401886\n",
      "recall_score -  0.7082616179001722\n",
      "--------------------------------------------------------\n",
      "For  AdaBoost\n",
      "Accuracy -  0.7591271506504407\n",
      "Precision -  0.8161290322580645\n",
      "f1_score -  0.7256214149139579\n",
      "recall_score -  0.653184165232358\n",
      "--------------------------------------------------------\n",
      "For  BgC\n",
      "Accuracy -  0.7494754511120436\n",
      "Precision -  0.7708533077660594\n",
      "f1_score -  0.7292517006802721\n",
      "recall_score -  0.6919104991394148\n",
      "--------------------------------------------------------\n",
      "For  ETC\n",
      "Accuracy -  0.7431808644565674\n",
      "Precision -  0.7609108159392789\n",
      "f1_score -  0.723826714801444\n",
      "recall_score -  0.6901893287435457\n",
      "--------------------------------------------------------\n",
      "For  GBDT\n",
      "Accuracy -  0.7654217373059169\n",
      "Precision -  0.8183738120380147\n",
      "f1_score -  0.7349454717875772\n",
      "recall_score -  0.6669535283993115\n",
      "--------------------------------------------------------\n",
      "[16:31:50] WARNING: ..\\src\\learner.cc:1061: Starting in XGBoost 1.3.0, the default evaluation metric used with the objective 'binary:logistic' was changed from 'error' to 'logloss'. Explicitly set eval_metric if you'd like to restore the old behavior.\n",
      "For  xgb\n",
      "Accuracy -  0.7620646244229963\n",
      "Precision -  0.8014184397163121\n",
      "f1_score -  0.7361563517915308\n",
      "recall_score -  0.6807228915662651\n",
      "--------------------------------------------------------\n"
     ]
    }
   ],
   "source": [
    "accuracy_scores = []\n",
    "precision_scores = []\n",
    "f1_score_scores = []\n",
    "recall_scores = []\n",
    "\n",
    "for name,clf in clfs.items():\n",
    "    \n",
    "    current_accuracy,current_precision, current_f1_score, current_recall_score = train_classifier(clf, X_train,y_train,X_test,y_test)\n",
    "    \n",
    "    print(\"For \",name)\n",
    "    print(\"Accuracy - \",current_accuracy)\n",
    "    print(\"Precision - \",current_precision)\n",
    "    print(\"f1_score - \",current_f1_score)\n",
    "    print(\"recall_score - \",current_recall_score)\n",
    "    print(\"--------------------------------------------------------\")\n",
    "    \n",
    "    accuracy_scores.append(current_accuracy)\n",
    "    precision_scores.append(current_precision)\n",
    "    f1_score_scores.append(current_f1_score)\n",
    "    recall_scores.append(current_recall_score)"
   ]
  },
  {
   "cell_type": "code",
   "execution_count": 22,
   "id": "a59c2718",
   "metadata": {
    "scrolled": true
   },
   "outputs": [
    {
     "data": {
      "text/html": [
       "<div>\n",
       "<style scoped>\n",
       "    .dataframe tbody tr th:only-of-type {\n",
       "        vertical-align: middle;\n",
       "    }\n",
       "\n",
       "    .dataframe tbody tr th {\n",
       "        vertical-align: top;\n",
       "    }\n",
       "\n",
       "    .dataframe thead th {\n",
       "        text-align: right;\n",
       "    }\n",
       "</style>\n",
       "<table border=\"1\" class=\"dataframe\">\n",
       "  <thead>\n",
       "    <tr style=\"text-align: right;\">\n",
       "      <th></th>\n",
       "      <th>Algorithm</th>\n",
       "      <th>Accuracy</th>\n",
       "      <th>Precision</th>\n",
       "      <th>f1_score</th>\n",
       "      <th>recall_score</th>\n",
       "    </tr>\n",
       "  </thead>\n",
       "  <tbody>\n",
       "    <tr>\n",
       "      <th>8</th>\n",
       "      <td>GBDT</td>\n",
       "      <td>0.765422</td>\n",
       "      <td>0.818374</td>\n",
       "      <td>0.734945</td>\n",
       "      <td>0.666954</td>\n",
       "    </tr>\n",
       "    <tr>\n",
       "      <th>5</th>\n",
       "      <td>AdaBoost</td>\n",
       "      <td>0.759127</td>\n",
       "      <td>0.816129</td>\n",
       "      <td>0.725621</td>\n",
       "      <td>0.653184</td>\n",
       "    </tr>\n",
       "    <tr>\n",
       "      <th>9</th>\n",
       "      <td>xgb</td>\n",
       "      <td>0.762065</td>\n",
       "      <td>0.801418</td>\n",
       "      <td>0.736156</td>\n",
       "      <td>0.680723</td>\n",
       "    </tr>\n",
       "    <tr>\n",
       "      <th>2</th>\n",
       "      <td>DT</td>\n",
       "      <td>0.726815</td>\n",
       "      <td>0.782946</td>\n",
       "      <td>0.684746</td>\n",
       "      <td>0.608434</td>\n",
       "    </tr>\n",
       "    <tr>\n",
       "      <th>4</th>\n",
       "      <td>RF</td>\n",
       "      <td>0.756190</td>\n",
       "      <td>0.772770</td>\n",
       "      <td>0.739111</td>\n",
       "      <td>0.708262</td>\n",
       "    </tr>\n",
       "    <tr>\n",
       "      <th>6</th>\n",
       "      <td>BgC</td>\n",
       "      <td>0.749475</td>\n",
       "      <td>0.770853</td>\n",
       "      <td>0.729252</td>\n",
       "      <td>0.691910</td>\n",
       "    </tr>\n",
       "    <tr>\n",
       "      <th>7</th>\n",
       "      <td>ETC</td>\n",
       "      <td>0.743181</td>\n",
       "      <td>0.760911</td>\n",
       "      <td>0.723827</td>\n",
       "      <td>0.690189</td>\n",
       "    </tr>\n",
       "    <tr>\n",
       "      <th>1</th>\n",
       "      <td>KN</td>\n",
       "      <td>0.712967</td>\n",
       "      <td>0.756438</td>\n",
       "      <td>0.673352</td>\n",
       "      <td>0.606713</td>\n",
       "    </tr>\n",
       "    <tr>\n",
       "      <th>3</th>\n",
       "      <td>LR</td>\n",
       "      <td>0.740243</td>\n",
       "      <td>0.753976</td>\n",
       "      <td>0.722546</td>\n",
       "      <td>0.693632</td>\n",
       "    </tr>\n",
       "    <tr>\n",
       "      <th>0</th>\n",
       "      <td>SVC</td>\n",
       "      <td>0.553924</td>\n",
       "      <td>0.541914</td>\n",
       "      <td>0.546308</td>\n",
       "      <td>0.550775</td>\n",
       "    </tr>\n",
       "  </tbody>\n",
       "</table>\n",
       "</div>"
      ],
      "text/plain": [
       "  Algorithm  Accuracy  Precision  f1_score  recall_score\n",
       "8      GBDT  0.765422   0.818374  0.734945      0.666954\n",
       "5  AdaBoost  0.759127   0.816129  0.725621      0.653184\n",
       "9       xgb  0.762065   0.801418  0.736156      0.680723\n",
       "2        DT  0.726815   0.782946  0.684746      0.608434\n",
       "4        RF  0.756190   0.772770  0.739111      0.708262\n",
       "6       BgC  0.749475   0.770853  0.729252      0.691910\n",
       "7       ETC  0.743181   0.760911  0.723827      0.690189\n",
       "1        KN  0.712967   0.756438  0.673352      0.606713\n",
       "3        LR  0.740243   0.753976  0.722546      0.693632\n",
       "0       SVC  0.553924   0.541914  0.546308      0.550775"
      ]
     },
     "execution_count": 22,
     "metadata": {},
     "output_type": "execute_result"
    }
   ],
   "source": [
    "performance_df = pd.DataFrame({'Algorithm':clfs.keys(),'Accuracy':accuracy_scores,'Precision':precision_scores, 'f1_score': f1_score_scores, 'recall_score' : recall_scores }).sort_values('Precision',ascending=False)\n",
    "\n",
    "performance_df"
   ]
  },
  {
   "cell_type": "markdown",
   "id": "7497f905",
   "metadata": {},
   "source": [
    "# Remove imbalanced - Over  sampling"
   ]
  },
  {
   "cell_type": "code",
   "execution_count": 23,
   "id": "a8c8c5fe",
   "metadata": {},
   "outputs": [],
   "source": [
    "from imblearn.combine import SMOTETomek"
   ]
  },
  {
   "cell_type": "code",
   "execution_count": 24,
   "id": "85f7379b",
   "metadata": {},
   "outputs": [],
   "source": [
    "X = new_df.drop(labels=['default payment next month'], axis =1)\n",
    "y = new_df[\"default payment next month\"]"
   ]
  },
  {
   "cell_type": "code",
   "execution_count": 27,
   "id": "fb6a2647",
   "metadata": {},
   "outputs": [],
   "source": [
    "# Implementing Oversampling for Handling Imbalanced \n",
    "smk = SMOTETomek()\n",
    "X_res,y_res=smk.fit_resample(X,y)"
   ]
  },
  {
   "cell_type": "code",
   "execution_count": 29,
   "id": "9c846445",
   "metadata": {
    "scrolled": true
   },
   "outputs": [
    {
     "data": {
      "text/plain": [
       "(40270, 23)"
      ]
     },
     "execution_count": 29,
     "metadata": {},
     "output_type": "execute_result"
    }
   ],
   "source": [
    "X_res.shape"
   ]
  },
  {
   "cell_type": "markdown",
   "id": "48aab698",
   "metadata": {},
   "source": [
    "## One Hot encoding"
   ]
  },
  {
   "cell_type": "code",
   "execution_count": 30,
   "id": "5573b3d3",
   "metadata": {},
   "outputs": [],
   "source": [
    "X_res_encoded = pd.get_dummies(X_res, columns = ['SEX', 'EDUCATION','MARRIAGE'] , drop_first= True)"
   ]
  },
  {
   "cell_type": "markdown",
   "id": "f39590be",
   "metadata": {},
   "source": [
    "## StandardScaler"
   ]
  },
  {
   "cell_type": "code",
   "execution_count": 31,
   "id": "75c7dc87",
   "metadata": {},
   "outputs": [],
   "source": [
    "from sklearn.preprocessing import StandardScaler\n",
    "scalar = StandardScaler()\n",
    "X_scaled = scalar.fit_transform(X_res_encoded)"
   ]
  },
  {
   "cell_type": "code",
   "execution_count": 32,
   "id": "3e4783c4",
   "metadata": {},
   "outputs": [
    {
     "data": {
      "text/plain": [
       "array([ 1.40605159e+05,  3.51252049e+01,  1.35758629e-01,  2.01142290e-03,\n",
       "       -5.35634467e-02, -1.24559225e-01, -1.78048175e-01, -2.12937671e-01,\n",
       "        4.03073920e+04,  3.86838898e+04,  3.67661908e+04,  3.37759672e+04,\n",
       "        3.13434935e+04,  3.03048525e+04,  3.31535339e+03,  3.35427765e+03,\n",
       "        2.94718145e+03,  2.66591361e+03,  2.63791778e+03,  2.64997244e+03,\n",
       "        5.12664515e-01,  4.88626769e-01,  1.22895456e-01,  9.51080209e-03,\n",
       "        5.46908369e-01,  4.44127142e-01,  7.30072014e-03])"
      ]
     },
     "execution_count": 32,
     "metadata": {},
     "output_type": "execute_result"
    }
   ],
   "source": [
    "scalar.mean_"
   ]
  },
  {
   "cell_type": "code",
   "execution_count": 33,
   "id": "83a78287",
   "metadata": {},
   "outputs": [],
   "source": [
    "from sklearn.model_selection import train_test_split\n",
    "X_train,X_test,y_train,y_test = train_test_split(X_scaled,y_res,test_size=0.2,random_state=42)"
   ]
  },
  {
   "cell_type": "code",
   "execution_count": 34,
   "id": "c3bed362",
   "metadata": {},
   "outputs": [
    {
     "data": {
      "text/plain": [
       "((32216, 27), (8054, 27))"
      ]
     },
     "execution_count": 34,
     "metadata": {},
     "output_type": "execute_result"
    }
   ],
   "source": [
    "X_train.shape, X_test.shape"
   ]
  },
  {
   "cell_type": "code",
   "execution_count": 35,
   "id": "ff3c734a",
   "metadata": {},
   "outputs": [],
   "source": [
    "from sklearn.linear_model import LogisticRegression\n",
    "from sklearn.svm import SVC\n",
    "from sklearn.tree import DecisionTreeClassifier\n",
    "from sklearn.neighbors import KNeighborsClassifier\n",
    "from sklearn.ensemble import RandomForestClassifier\n",
    "from sklearn.ensemble import AdaBoostClassifier\n",
    "from sklearn.ensemble import BaggingClassifier\n",
    "from sklearn.ensemble import ExtraTreesClassifier\n",
    "from sklearn.ensemble import GradientBoostingClassifier\n",
    "from xgboost import XGBClassifier\n"
   ]
  },
  {
   "cell_type": "code",
   "execution_count": 36,
   "id": "56d0861d",
   "metadata": {},
   "outputs": [],
   "source": [
    "svc = SVC(kernel='sigmoid', gamma=1.0)\n",
    "knc = KNeighborsClassifier()\n",
    "dtc = DecisionTreeClassifier(max_depth=5)\n",
    "lrc = LogisticRegression(solver='liblinear', penalty='l1')\n",
    "rfc = RandomForestClassifier(n_estimators=50, random_state=42)\n",
    "abc = AdaBoostClassifier(n_estimators=50, random_state=42)\n",
    "bc = BaggingClassifier(n_estimators=50, random_state=2)\n",
    "etc = ExtraTreesClassifier(n_estimators=50, random_state=42)\n",
    "gbdt = GradientBoostingClassifier(n_estimators=50,random_state=42)\n",
    "xgb = XGBClassifier(n_estimators=50,random_state=42)"
   ]
  },
  {
   "cell_type": "code",
   "execution_count": 37,
   "id": "bcea87d9",
   "metadata": {},
   "outputs": [],
   "source": [
    "clfs = {\n",
    "    'SVC' : svc,\n",
    "    'KN' : knc,  \n",
    "    'DT': dtc, \n",
    "    'LR': lrc, \n",
    "    'RF': rfc, \n",
    "    'AdaBoost': abc, \n",
    "    'BgC': bc, \n",
    "    'ETC': etc,\n",
    "    'GBDT':gbdt,\n",
    "    'xgb':xgb\n",
    "}"
   ]
  },
  {
   "cell_type": "code",
   "execution_count": 38,
   "id": "6d6b9b89",
   "metadata": {},
   "outputs": [],
   "source": [
    "from sklearn.metrics import accuracy_score,confusion_matrix,precision_score,f1_score, recall_score"
   ]
  },
  {
   "cell_type": "code",
   "execution_count": 39,
   "id": "7d3aec82",
   "metadata": {},
   "outputs": [],
   "source": [
    "def train_classifier(clf,X_train,y_train,X_test,y_test):\n",
    "    clf.fit(X_train,y_train)\n",
    "    y_pred = clf.predict(X_test)\n",
    "    accuracy = accuracy_score(y_test,y_pred)\n",
    "    precision = precision_score(y_test,y_pred)\n",
    "    f1_scores = f1_score(y_test,y_pred)\n",
    "    recall_scores = recall_score(y_test,y_pred)\n",
    "    \n",
    "    return accuracy,precision,f1_scores, recall_scores"
   ]
  },
  {
   "cell_type": "code",
   "execution_count": 40,
   "id": "d58cfd7c",
   "metadata": {
    "scrolled": false
   },
   "outputs": [
    {
     "name": "stdout",
     "output_type": "stream",
     "text": [
      "For  SVC\n",
      "Accuracy -  0.5398559721877328\n",
      "Precision -  0.5441396508728179\n",
      "f1_score -  0.5407682775712515\n",
      "recall_score -  0.5374384236453202\n",
      "--------------------------------------------------------\n",
      "For  KN\n",
      "Accuracy -  0.7623541097591259\n",
      "Precision -  0.7509354536950421\n",
      "f1_score -  0.7703934740882917\n",
      "recall_score -  0.7908866995073892\n",
      "--------------------------------------------------------\n",
      "For  DT\n",
      "Accuracy -  0.7273404519493419\n",
      "Precision -  0.7324189526184539\n",
      "f1_score -  0.7278810408921934\n",
      "recall_score -  0.7233990147783251\n",
      "--------------------------------------------------------\n",
      "For  LR\n",
      "Accuracy -  0.727216290042215\n",
      "Precision -  0.7237569060773481\n",
      "f1_score -  0.7328225708378937\n",
      "recall_score -  0.7421182266009853\n",
      "--------------------------------------------------------\n",
      "For  RF\n",
      "Accuracy -  0.8395828159920536\n",
      "Precision -  0.8482637141419225\n",
      "f1_score -  0.8391834702514315\n",
      "recall_score -  0.8302955665024631\n",
      "--------------------------------------------------------\n",
      "For  AdaBoost\n",
      "Accuracy -  0.7563943382170351\n",
      "Precision -  0.7703608247422681\n",
      "f1_score -  0.7528967254408062\n",
      "recall_score -  0.7362068965517241\n",
      "--------------------------------------------------------\n",
      "For  BgC\n",
      "Accuracy -  0.83213310156444\n",
      "Precision -  0.8459376596831886\n",
      "f1_score -  0.8304489591171308\n",
      "recall_score -  0.8155172413793104\n",
      "--------------------------------------------------------\n",
      "For  ETC\n",
      "Accuracy -  0.8388378445492922\n",
      "Precision -  0.8490899898887766\n",
      "f1_score -  0.8380738522954092\n",
      "recall_score -  0.8273399014778325\n",
      "--------------------------------------------------------\n",
      "For  GBDT\n",
      "Accuracy -  0.7729078718649118\n",
      "Precision -  0.7925517964857068\n",
      "f1_score -  0.7676870316270799\n",
      "recall_score -  0.7443349753694581\n",
      "--------------------------------------------------------\n",
      "[16:39:04] WARNING: ..\\src\\learner.cc:1061: Starting in XGBoost 1.3.0, the default evaluation metric used with the objective 'binary:logistic' was changed from 'error' to 'logloss'. Explicitly set eval_metric if you'd like to restore the old behavior.\n",
      "For  xgb\n",
      "Accuracy -  0.8178544822448472\n",
      "Precision -  0.8323506793129967\n",
      "f1_score -  0.8157266675040824\n",
      "recall_score -  0.7997536945812808\n",
      "--------------------------------------------------------\n"
     ]
    }
   ],
   "source": [
    "accuracy_scores = []\n",
    "precision_scores = []\n",
    "f1_score_scores = []\n",
    "recall_scores = []\n",
    "\n",
    "for name,clf in clfs.items():\n",
    "    \n",
    "    current_accuracy,current_precision, current_f1_score, current_recall_score = train_classifier(clf, X_train,y_train,X_test,y_test)\n",
    "    \n",
    "    print(\"For \",name)\n",
    "    print(\"Accuracy - \",current_accuracy)\n",
    "    print(\"Precision - \",current_precision)\n",
    "    print(\"f1_score - \",current_f1_score)\n",
    "    print(\"recall_score - \",current_recall_score)\n",
    "    print(\"--------------------------------------------------------\")\n",
    "    \n",
    "    accuracy_scores.append(current_accuracy)\n",
    "    precision_scores.append(current_precision)\n",
    "    f1_score_scores.append(current_f1_score)\n",
    "    recall_scores.append(current_recall_score)"
   ]
  },
  {
   "cell_type": "code",
   "execution_count": 41,
   "id": "a59c2718",
   "metadata": {
    "scrolled": true
   },
   "outputs": [
    {
     "data": {
      "text/html": [
       "<div>\n",
       "<style scoped>\n",
       "    .dataframe tbody tr th:only-of-type {\n",
       "        vertical-align: middle;\n",
       "    }\n",
       "\n",
       "    .dataframe tbody tr th {\n",
       "        vertical-align: top;\n",
       "    }\n",
       "\n",
       "    .dataframe thead th {\n",
       "        text-align: right;\n",
       "    }\n",
       "</style>\n",
       "<table border=\"1\" class=\"dataframe\">\n",
       "  <thead>\n",
       "    <tr style=\"text-align: right;\">\n",
       "      <th></th>\n",
       "      <th>Algorithm</th>\n",
       "      <th>Accuracy</th>\n",
       "      <th>Precision</th>\n",
       "      <th>f1_score</th>\n",
       "      <th>recall_score</th>\n",
       "    </tr>\n",
       "  </thead>\n",
       "  <tbody>\n",
       "    <tr>\n",
       "      <th>7</th>\n",
       "      <td>ETC</td>\n",
       "      <td>0.838838</td>\n",
       "      <td>0.849090</td>\n",
       "      <td>0.838074</td>\n",
       "      <td>0.827340</td>\n",
       "    </tr>\n",
       "    <tr>\n",
       "      <th>4</th>\n",
       "      <td>RF</td>\n",
       "      <td>0.839583</td>\n",
       "      <td>0.848264</td>\n",
       "      <td>0.839183</td>\n",
       "      <td>0.830296</td>\n",
       "    </tr>\n",
       "    <tr>\n",
       "      <th>6</th>\n",
       "      <td>BgC</td>\n",
       "      <td>0.832133</td>\n",
       "      <td>0.845938</td>\n",
       "      <td>0.830449</td>\n",
       "      <td>0.815517</td>\n",
       "    </tr>\n",
       "    <tr>\n",
       "      <th>9</th>\n",
       "      <td>xgb</td>\n",
       "      <td>0.817854</td>\n",
       "      <td>0.832351</td>\n",
       "      <td>0.815727</td>\n",
       "      <td>0.799754</td>\n",
       "    </tr>\n",
       "    <tr>\n",
       "      <th>8</th>\n",
       "      <td>GBDT</td>\n",
       "      <td>0.772908</td>\n",
       "      <td>0.792552</td>\n",
       "      <td>0.767687</td>\n",
       "      <td>0.744335</td>\n",
       "    </tr>\n",
       "    <tr>\n",
       "      <th>5</th>\n",
       "      <td>AdaBoost</td>\n",
       "      <td>0.756394</td>\n",
       "      <td>0.770361</td>\n",
       "      <td>0.752897</td>\n",
       "      <td>0.736207</td>\n",
       "    </tr>\n",
       "    <tr>\n",
       "      <th>1</th>\n",
       "      <td>KN</td>\n",
       "      <td>0.762354</td>\n",
       "      <td>0.750935</td>\n",
       "      <td>0.770393</td>\n",
       "      <td>0.790887</td>\n",
       "    </tr>\n",
       "    <tr>\n",
       "      <th>2</th>\n",
       "      <td>DT</td>\n",
       "      <td>0.727340</td>\n",
       "      <td>0.732419</td>\n",
       "      <td>0.727881</td>\n",
       "      <td>0.723399</td>\n",
       "    </tr>\n",
       "    <tr>\n",
       "      <th>3</th>\n",
       "      <td>LR</td>\n",
       "      <td>0.727216</td>\n",
       "      <td>0.723757</td>\n",
       "      <td>0.732823</td>\n",
       "      <td>0.742118</td>\n",
       "    </tr>\n",
       "    <tr>\n",
       "      <th>0</th>\n",
       "      <td>SVC</td>\n",
       "      <td>0.539856</td>\n",
       "      <td>0.544140</td>\n",
       "      <td>0.540768</td>\n",
       "      <td>0.537438</td>\n",
       "    </tr>\n",
       "  </tbody>\n",
       "</table>\n",
       "</div>"
      ],
      "text/plain": [
       "  Algorithm  Accuracy  Precision  f1_score  recall_score\n",
       "7       ETC  0.838838   0.849090  0.838074      0.827340\n",
       "4        RF  0.839583   0.848264  0.839183      0.830296\n",
       "6       BgC  0.832133   0.845938  0.830449      0.815517\n",
       "9       xgb  0.817854   0.832351  0.815727      0.799754\n",
       "8      GBDT  0.772908   0.792552  0.767687      0.744335\n",
       "5  AdaBoost  0.756394   0.770361  0.752897      0.736207\n",
       "1        KN  0.762354   0.750935  0.770393      0.790887\n",
       "2        DT  0.727340   0.732419  0.727881      0.723399\n",
       "3        LR  0.727216   0.723757  0.732823      0.742118\n",
       "0       SVC  0.539856   0.544140  0.540768      0.537438"
      ]
     },
     "execution_count": 41,
     "metadata": {},
     "output_type": "execute_result"
    }
   ],
   "source": [
    "performance_df = pd.DataFrame({'Algorithm':clfs.keys(),'Accuracy':accuracy_scores,'Precision':precision_scores, 'f1_score': f1_score_scores, 'recall_score' : recall_scores }).sort_values('Precision',ascending=False)\n",
    "\n",
    "performance_df"
   ]
  },
  {
   "cell_type": "markdown",
   "id": "5e051201",
   "metadata": {},
   "source": [
    "# Remove imbalanced - Over sampling"
   ]
  },
  {
   "cell_type": "code",
   "execution_count": 42,
   "id": "760ef331",
   "metadata": {},
   "outputs": [],
   "source": [
    "## RandomOverSampler to handle imbalanced data\n",
    "\n",
    "from imblearn.over_sampling import RandomOverSampler"
   ]
  },
  {
   "cell_type": "code",
   "execution_count": 44,
   "id": "ac35cbfc",
   "metadata": {},
   "outputs": [],
   "source": [
    "os =  RandomOverSampler()\n",
    "X_train_res, y_train_res = os.fit_resample(X, y)"
   ]
  },
  {
   "cell_type": "code",
   "execution_count": 45,
   "id": "88d5bb5e",
   "metadata": {
    "scrolled": true
   },
   "outputs": [
    {
     "data": {
      "text/plain": [
       "(41482, 23)"
      ]
     },
     "execution_count": 45,
     "metadata": {},
     "output_type": "execute_result"
    }
   ],
   "source": [
    "X_train_res.shape"
   ]
  },
  {
   "cell_type": "markdown",
   "id": "230e922d",
   "metadata": {},
   "source": [
    "## One Hot encoding"
   ]
  },
  {
   "cell_type": "code",
   "execution_count": 46,
   "id": "5573b3d3",
   "metadata": {},
   "outputs": [],
   "source": [
    "X_res_encoded = pd.get_dummies(X_train_res, columns = ['SEX', 'EDUCATION','MARRIAGE'] , drop_first= True)"
   ]
  },
  {
   "cell_type": "markdown",
   "id": "f39590be",
   "metadata": {},
   "source": [
    "## StandardScaler"
   ]
  },
  {
   "cell_type": "code",
   "execution_count": 47,
   "id": "75c7dc87",
   "metadata": {},
   "outputs": [],
   "source": [
    "from sklearn.preprocessing import StandardScaler\n",
    "scalar = StandardScaler()\n",
    "X_scaled = scalar.fit_transform(X_res_encoded)"
   ]
  },
  {
   "cell_type": "code",
   "execution_count": 48,
   "id": "3e4783c4",
   "metadata": {},
   "outputs": [
    {
     "data": {
      "text/plain": [
       "array([ 1.41933176e+05,  3.53192710e+01,  1.86900342e-01,  1.85381611e-02,\n",
       "       -4.72494094e-02, -1.27115375e-01, -1.94518104e-01, -2.27134661e-01,\n",
       "        4.01770937e+04,  3.85200433e+04,  3.65372627e+04,  3.35643225e+04,\n",
       "        3.11111918e+04,  3.00005970e+04,  3.38158399e+03,  3.37250236e+03,\n",
       "        2.99042197e+03,  2.73352676e+03,  2.67289608e+03,  2.72809472e+03,\n",
       "        6.00573743e-01,  4.79581505e-01,  1.73255870e-01,  1.10650403e-02,\n",
       "        4.62923678e-01,  5.24227376e-01,  1.14989634e-02])"
      ]
     },
     "execution_count": 48,
     "metadata": {},
     "output_type": "execute_result"
    }
   ],
   "source": [
    "scalar.mean_"
   ]
  },
  {
   "cell_type": "code",
   "execution_count": 50,
   "id": "83a78287",
   "metadata": {},
   "outputs": [],
   "source": [
    "from sklearn.model_selection import train_test_split\n",
    "X_train,X_test,y_train,y_test = train_test_split(X_scaled,y_train_res,test_size=0.2,random_state=42)"
   ]
  },
  {
   "cell_type": "code",
   "execution_count": 51,
   "id": "bbe7d4d9",
   "metadata": {},
   "outputs": [
    {
     "data": {
      "text/plain": [
       "((33185, 27), (8297, 27))"
      ]
     },
     "execution_count": 51,
     "metadata": {},
     "output_type": "execute_result"
    }
   ],
   "source": [
    "X_train.shape, X_test.shape"
   ]
  },
  {
   "cell_type": "code",
   "execution_count": 70,
   "id": "ff3c734a",
   "metadata": {},
   "outputs": [],
   "source": [
    "from sklearn.linear_model import LogisticRegression\n",
    "from sklearn.svm import SVC\n",
    "from sklearn.tree import DecisionTreeClassifier\n",
    "from sklearn.neighbors import KNeighborsClassifier\n",
    "from sklearn.ensemble import RandomForestClassifier\n",
    "from sklearn.ensemble import AdaBoostClassifier\n",
    "from sklearn.ensemble import BaggingClassifier\n",
    "from sklearn.ensemble import ExtraTreesClassifier\n",
    "from sklearn.ensemble import GradientBoostingClassifier\n",
    "from xgboost import XGBClassifier\n"
   ]
  },
  {
   "cell_type": "code",
   "execution_count": 71,
   "id": "56d0861d",
   "metadata": {},
   "outputs": [],
   "source": [
    "svc = SVC(kernel='sigmoid', gamma=1.0)\n",
    "knc = KNeighborsClassifier()\n",
    "dtc = DecisionTreeClassifier(max_depth=5)\n",
    "lrc = LogisticRegression(solver='liblinear', penalty='l1')\n",
    "rfc = RandomForestClassifier(n_estimators=50, random_state=42)\n",
    "abc = AdaBoostClassifier(n_estimators=50, random_state=42)\n",
    "bc = BaggingClassifier(n_estimators=50, random_state=2)\n",
    "etc = ExtraTreesClassifier( criterion= \"entropy\", n_estimators=50, random_state=42)\n",
    "gbdt = GradientBoostingClassifier(n_estimators=50,random_state=42)\n",
    "xgb = XGBClassifier(n_estimators=50,random_state=42)"
   ]
  },
  {
   "cell_type": "code",
   "execution_count": 72,
   "id": "bcea87d9",
   "metadata": {},
   "outputs": [],
   "source": [
    "clfs = {\n",
    "    'SVC' : svc,\n",
    "    'KN' : knc,  \n",
    "    'DT': dtc, \n",
    "    'LR': lrc, \n",
    "    'RF': rfc, \n",
    "    'AdaBoost': abc, \n",
    "    'BgC': bc, \n",
    "    'ETC': etc,\n",
    "    'GBDT':gbdt,\n",
    "    'xgb':xgb\n",
    "}"
   ]
  },
  {
   "cell_type": "code",
   "execution_count": 73,
   "id": "6d6b9b89",
   "metadata": {},
   "outputs": [],
   "source": [
    "from sklearn.metrics import accuracy_score,confusion_matrix,precision_score,f1_score, recall_score"
   ]
  },
  {
   "cell_type": "code",
   "execution_count": 74,
   "id": "7d3aec82",
   "metadata": {},
   "outputs": [],
   "source": [
    "def train_classifier(clf,X_train,y_train,X_test,y_test):\n",
    "    clf.fit(X_train,y_train)\n",
    "    y_pred = clf.predict(X_test)\n",
    "    accuracy = accuracy_score(y_test,y_pred)\n",
    "    precision = precision_score(y_test,y_pred)\n",
    "    f1_scores = f1_score(y_test,y_pred)\n",
    "    recall_scores = recall_score(y_test,y_pred)\n",
    "    \n",
    "    return accuracy,precision,f1_scores, recall_scores"
   ]
  },
  {
   "cell_type": "code",
   "execution_count": 75,
   "id": "d58cfd7c",
   "metadata": {
    "scrolled": false
   },
   "outputs": [
    {
     "name": "stdout",
     "output_type": "stream",
     "text": [
      "For  SVC\n",
      "Accuracy -  0.5512835964806556\n",
      "Precision -  0.5453003875968992\n",
      "f1_score -  0.547355623100304\n",
      "recall_score -  0.5494264095679766\n",
      "--------------------------------------------------------\n",
      "For  KN\n",
      "Accuracy -  0.7505122333373508\n",
      "Precision -  0.7122513089005236\n",
      "f1_score -  0.7666816952209197\n",
      "recall_score -  0.8301195997071028\n",
      "--------------------------------------------------------\n",
      "For  DT\n",
      "Accuracy -  0.7001325780402555\n",
      "Precision -  0.7181990778410632\n",
      "f1_score -  0.6803699897225078\n",
      "recall_score -  0.646326580424701\n",
      "--------------------------------------------------------\n",
      "For  LR\n",
      "Accuracy -  0.6630107267687115\n",
      "Precision -  0.6642262055036607\n",
      "f1_score -  0.6530156366344005\n",
      "recall_score -  0.64217720283134\n",
      "--------------------------------------------------------\n",
      "For  RF\n",
      "Accuracy -  0.9344341328190913\n",
      "Precision -  0.9079219288174512\n",
      "f1_score -  0.9356365357311879\n",
      "recall_score -  0.9650964120087869\n",
      "--------------------------------------------------------\n",
      "For  AdaBoost\n",
      "Accuracy -  0.7077256839821622\n",
      "Precision -  0.7468989958653278\n",
      "f1_score -  0.6759321127889883\n",
      "recall_score -  0.6172809372711741\n",
      "--------------------------------------------------------\n",
      "For  BgC\n",
      "Accuracy -  0.9293720621911534\n",
      "Precision -  0.8999772157666894\n",
      "f1_score -  0.9309450860240396\n",
      "recall_score -  0.9641200878691726\n",
      "--------------------------------------------------------\n",
      "For  ETC\n",
      "Accuracy -  0.9435940701458359\n",
      "Precision -  0.9252402156081556\n",
      "f1_score -  0.9440459110473459\n",
      "recall_score -  0.9636319257993654\n",
      "--------------------------------------------------------\n",
      "For  GBDT\n",
      "Accuracy -  0.7150777389417862\n",
      "Precision -  0.7505059265683723\n",
      "f1_score -  0.68713605082054\n",
      "recall_score -  0.6336343666097144\n",
      "--------------------------------------------------------\n",
      "[17:04:12] WARNING: ..\\src\\learner.cc:1061: Starting in XGBoost 1.3.0, the default evaluation metric used with the objective 'binary:logistic' was changed from 'error' to 'logloss'. Explicitly set eval_metric if you'd like to restore the old behavior.\n",
      "For  xgb\n",
      "Accuracy -  0.7663010726768712\n",
      "Precision -  0.7765248590466427\n",
      "f1_score -  0.7575946993374172\n",
      "recall_score -  0.7395655357578717\n",
      "--------------------------------------------------------\n"
     ]
    }
   ],
   "source": [
    "accuracy_scores = []\n",
    "precision_scores = []\n",
    "f1_score_scores = []\n",
    "recall_scores = []\n",
    "\n",
    "for name,clf in clfs.items():\n",
    "    \n",
    "    current_accuracy,current_precision, current_f1_score, current_recall_score = train_classifier(clf, X_train,y_train,X_test,y_test)\n",
    "    \n",
    "    print(\"For \",name)\n",
    "    print(\"Accuracy - \",current_accuracy)\n",
    "    print(\"Precision - \",current_precision)\n",
    "    print(\"f1_score - \",current_f1_score)\n",
    "    print(\"recall_score - \",current_recall_score)\n",
    "    print(\"--------------------------------------------------------\")\n",
    "    \n",
    "    accuracy_scores.append(current_accuracy)\n",
    "    precision_scores.append(current_precision)\n",
    "    f1_score_scores.append(current_f1_score)\n",
    "    recall_scores.append(current_recall_score)"
   ]
  },
  {
   "cell_type": "code",
   "execution_count": 76,
   "id": "a59c2718",
   "metadata": {
    "scrolled": true
   },
   "outputs": [
    {
     "data": {
      "text/html": [
       "<div>\n",
       "<style scoped>\n",
       "    .dataframe tbody tr th:only-of-type {\n",
       "        vertical-align: middle;\n",
       "    }\n",
       "\n",
       "    .dataframe tbody tr th {\n",
       "        vertical-align: top;\n",
       "    }\n",
       "\n",
       "    .dataframe thead th {\n",
       "        text-align: right;\n",
       "    }\n",
       "</style>\n",
       "<table border=\"1\" class=\"dataframe\">\n",
       "  <thead>\n",
       "    <tr style=\"text-align: right;\">\n",
       "      <th></th>\n",
       "      <th>Algorithm</th>\n",
       "      <th>Accuracy</th>\n",
       "      <th>Precision</th>\n",
       "      <th>f1_score</th>\n",
       "      <th>recall_score</th>\n",
       "    </tr>\n",
       "  </thead>\n",
       "  <tbody>\n",
       "    <tr>\n",
       "      <th>7</th>\n",
       "      <td>ETC</td>\n",
       "      <td>0.943594</td>\n",
       "      <td>0.925240</td>\n",
       "      <td>0.944046</td>\n",
       "      <td>0.963632</td>\n",
       "    </tr>\n",
       "    <tr>\n",
       "      <th>4</th>\n",
       "      <td>RF</td>\n",
       "      <td>0.934434</td>\n",
       "      <td>0.907922</td>\n",
       "      <td>0.935637</td>\n",
       "      <td>0.965096</td>\n",
       "    </tr>\n",
       "    <tr>\n",
       "      <th>6</th>\n",
       "      <td>BgC</td>\n",
       "      <td>0.929372</td>\n",
       "      <td>0.899977</td>\n",
       "      <td>0.930945</td>\n",
       "      <td>0.964120</td>\n",
       "    </tr>\n",
       "    <tr>\n",
       "      <th>9</th>\n",
       "      <td>xgb</td>\n",
       "      <td>0.766301</td>\n",
       "      <td>0.776525</td>\n",
       "      <td>0.757595</td>\n",
       "      <td>0.739566</td>\n",
       "    </tr>\n",
       "    <tr>\n",
       "      <th>8</th>\n",
       "      <td>GBDT</td>\n",
       "      <td>0.715078</td>\n",
       "      <td>0.750506</td>\n",
       "      <td>0.687136</td>\n",
       "      <td>0.633634</td>\n",
       "    </tr>\n",
       "    <tr>\n",
       "      <th>5</th>\n",
       "      <td>AdaBoost</td>\n",
       "      <td>0.707726</td>\n",
       "      <td>0.746899</td>\n",
       "      <td>0.675932</td>\n",
       "      <td>0.617281</td>\n",
       "    </tr>\n",
       "    <tr>\n",
       "      <th>2</th>\n",
       "      <td>DT</td>\n",
       "      <td>0.700133</td>\n",
       "      <td>0.718199</td>\n",
       "      <td>0.680370</td>\n",
       "      <td>0.646327</td>\n",
       "    </tr>\n",
       "    <tr>\n",
       "      <th>1</th>\n",
       "      <td>KN</td>\n",
       "      <td>0.750512</td>\n",
       "      <td>0.712251</td>\n",
       "      <td>0.766682</td>\n",
       "      <td>0.830120</td>\n",
       "    </tr>\n",
       "    <tr>\n",
       "      <th>3</th>\n",
       "      <td>LR</td>\n",
       "      <td>0.663011</td>\n",
       "      <td>0.664226</td>\n",
       "      <td>0.653016</td>\n",
       "      <td>0.642177</td>\n",
       "    </tr>\n",
       "    <tr>\n",
       "      <th>0</th>\n",
       "      <td>SVC</td>\n",
       "      <td>0.551284</td>\n",
       "      <td>0.545300</td>\n",
       "      <td>0.547356</td>\n",
       "      <td>0.549426</td>\n",
       "    </tr>\n",
       "  </tbody>\n",
       "</table>\n",
       "</div>"
      ],
      "text/plain": [
       "  Algorithm  Accuracy  Precision  f1_score  recall_score\n",
       "7       ETC  0.943594   0.925240  0.944046      0.963632\n",
       "4        RF  0.934434   0.907922  0.935637      0.965096\n",
       "6       BgC  0.929372   0.899977  0.930945      0.964120\n",
       "9       xgb  0.766301   0.776525  0.757595      0.739566\n",
       "8      GBDT  0.715078   0.750506  0.687136      0.633634\n",
       "5  AdaBoost  0.707726   0.746899  0.675932      0.617281\n",
       "2        DT  0.700133   0.718199  0.680370      0.646327\n",
       "1        KN  0.750512   0.712251  0.766682      0.830120\n",
       "3        LR  0.663011   0.664226  0.653016      0.642177\n",
       "0       SVC  0.551284   0.545300  0.547356      0.549426"
      ]
     },
     "execution_count": 76,
     "metadata": {},
     "output_type": "execute_result"
    }
   ],
   "source": [
    "performance_df = pd.DataFrame({'Algorithm':clfs.keys(),'Accuracy':accuracy_scores,'Precision':precision_scores, 'f1_score': f1_score_scores, 'recall_score' : recall_scores }).sort_values('Precision',ascending=False)\n",
    "\n",
    "performance_df"
   ]
  },
  {
   "cell_type": "markdown",
   "id": "4cefbd75",
   "metadata": {},
   "source": [
    "# Best model condition "
   ]
  },
  {
   "cell_type": "markdown",
   "id": "24b4ba6d",
   "metadata": {},
   "source": [
    "- ExtraTreesClassifier with RandomOverSampler"
   ]
  },
  {
   "cell_type": "code",
   "execution_count": 77,
   "id": "dc4f9735",
   "metadata": {},
   "outputs": [
    {
     "data": {
      "text/plain": [
       "0.9435940701458359"
      ]
     },
     "execution_count": 77,
     "metadata": {},
     "output_type": "execute_result"
    }
   ],
   "source": [
    "etc.score(X_test,y_test)"
   ]
  },
  {
   "cell_type": "code",
   "execution_count": 78,
   "id": "675c8f90",
   "metadata": {},
   "outputs": [],
   "source": [
    "import pickle"
   ]
  },
  {
   "cell_type": "code",
   "execution_count": 79,
   "id": "54219d5b",
   "metadata": {},
   "outputs": [],
   "source": [
    "pickle.dump(etc,open('best_model.pkl','wb'))"
   ]
  },
  {
   "cell_type": "code",
   "execution_count": 80,
   "id": "5e622e2c",
   "metadata": {},
   "outputs": [],
   "source": [
    "pickle.dump(os,open('RandomOverSampler.pkl','wb'))"
   ]
  },
  {
   "cell_type": "code",
   "execution_count": 81,
   "id": "2eff2dad",
   "metadata": {},
   "outputs": [],
   "source": [
    "pickle.dump(scalar,open('StandardScaler.pkl','wb'))"
   ]
  },
  {
   "cell_type": "code",
   "execution_count": null,
   "id": "41831b5a",
   "metadata": {},
   "outputs": [],
   "source": []
  }
 ],
 "metadata": {
  "kernelspec": {
   "display_name": "Python 3",
   "language": "python",
   "name": "python3"
  },
  "language_info": {
   "codemirror_mode": {
    "name": "ipython",
    "version": 3
   },
   "file_extension": ".py",
   "mimetype": "text/x-python",
   "name": "python",
   "nbconvert_exporter": "python",
   "pygments_lexer": "ipython3",
   "version": "3.8.8"
  }
 },
 "nbformat": 4,
 "nbformat_minor": 5
}
